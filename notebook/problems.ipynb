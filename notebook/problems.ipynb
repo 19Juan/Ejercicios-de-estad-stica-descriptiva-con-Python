{
    "cells": [
        {
            "cell_type": "markdown",
            "id": "ac622319",
            "metadata": {},
            "source": [
                "# Descriptive statistics problems"
            ]
        },
        {
            "cell_type": "markdown",
            "id": "5e0ab0d5",
            "metadata": {},
            "source": [
                "### Exercise 1\n",
                "\n",
                "We will use NumPy to obtain information to describe statistically.\n",
                "\n",
                "- Generate an array of 100 elements following a normal distribution.\n",
                "- Generate an array of 100 elements following a chi-square distribution with 3 degrees of freedom.\n",
                "- Calculate the main metrics and statistical measures that best describe the two vectors."
            ]
        },
        {
            "cell_type": "code",
            "execution_count": 23,
            "id": "34720ab6",
            "metadata": {},
            "outputs": [
                {
                    "name": "stdout",
                    "output_type": "stream",
                    "text": [
                        "la media de normal array es -0.054374447919658155\n",
                        "la mediana de normal array es -0.08190426716531171\n",
                        "la desvest de normal array es 0.9276286734084266\n",
                        "la varianza de normal array es 0.8604949557294774\n",
                        "el rango de normal array es 4.934456595966168\n",
                        "el 25% de los datos de normal array están debajo de -0.689794589572601\n",
                        "el 75% de los datos de normal array están debajo de 0.5933410803855778\n",
                        "el 50% de los datos de normal array están debajo de -0.08190426716531171\n",
                        "la curtosis de normal array es -0.06170616760927006\n",
                        "la asimetria de normal array es -0.11444320730639682\n",
                        "la media de chi square array es 2.963686220119509\n",
                        "la mediana chi square array es 2.3963706314371573\n",
                        "la desvest chi square array es 2.4746224208567305\n",
                        "la varianza chi square array es 6.123756125806825\n",
                        "e rango de chi sqare array es 13.12218229460732\n",
                        "el 25% de los datos chi square array están debajo de 1.2759483952933768\n",
                        "el 75% de los datos chi square array están debajo de 3.5026148557758328\n",
                        "el 50% de los datos chi square array están debajo de 2.3963706314371573\n",
                        "la curtosis chi square array es 3.0520396692524994\n",
                        "la asimetria chi square array es 1.6741578148888385\n"
                    ]
                },
                {
                    "data": {
                        "image/png": "[encoded data removed]",
                        "text/plain": [
                            "<Figure size 640x480 with 1 Axes>"
                        ]
                    },
                    "metadata": {},
                    "output_type": "display_data"
                }
            ],
            "source": [
                "# TODO\n",
                "import numpy as np\n",
                "import matplotlib.pyplot as plt\n",
                "from scipy.stats import kurtosis\n",
                "from scipy.stats import skew\n",
                "\n",
                "normal_array = np.random.normal(size=100)\n",
                "print(f'la media de normal array es', np.mean(normal_array))\n",
                "print(f'la mediana de normal array es', np.median(normal_array))\n",
                "print(f'la desvest de normal array es', np.std(normal_array))\n",
                "print(f'la varianza de normal array es', np.var(normal_array))\n",
                "print(f'el rango de normal array es', max(normal_array) - min(normal_array))    \n",
                "print(f'el 25% de los datos de normal array están debajo de', np.percentile(normal_array, 25))\n",
                "print(f'el 75% de los datos de normal array están debajo de', np.percentile(normal_array, 75))\n",
                "print(f'el 50% de los datos de normal array están debajo de', np.percentile(normal_array, 50))  \n",
                "print(f'la curtosis de normal array es', kurtosis(normal_array))\n",
                "print(f'la asimetria de normal array es', skew(normal_array))\n",
                "\n",
                "Chi_square_array = np.random.chisquare(df=3, size=100)\n",
                "print(f'la media de chi square array es', np.mean(Chi_square_array))\n",
                "print(f'la mediana chi square array es', np.median(Chi_square_array))\n",
                "print(f'la desvest chi square array es', np.std(Chi_square_array))\n",
                "print(f'la varianza chi square array es', np.var(Chi_square_array))\n",
                "print(f'e rango de chi sqare array es', max(Chi_square_array) - min(Chi_square_array)) \n",
                "print(f'el 25% de los datos chi square array están debajo de', np.percentile(Chi_square_array, 25))\n",
                "print(f'el 75% de los datos chi square array están debajo de', np.percentile(Chi_square_array, 75))\n",
                "print(f'el 50% de los datos chi square array están debajo de', np.percentile(Chi_square_array, 50)) \n",
                "print(f'la curtosis chi square array es', kurtosis(Chi_square_array))\n",
                "print(f'la asimetria chi square array es', skew(Chi_square_array))\n",
                "\n",
                "plt.hist(normal_array)\n",
                "plt.show()\n"
            ]
        },
        {
            "cell_type": "markdown",
            "id": "46c70c3d",
            "metadata": {},
            "source": [
                "### Exercise 2\n",
                "\n",
                "Write a Python program to calculate the standard deviation of the following data:\n",
                "\n",
                "```py\n",
                "data = [4, 2, 5, 8, 6]\n",
                "```"
            ]
        },
        {
            "cell_type": "code",
            "execution_count": 29,
            "id": "d590308e",
            "metadata": {},
            "outputs": [
                {
                    "name": "stdout",
                    "output_type": "stream",
                    "text": [
                        " los datos son [4, 2, 5, 8, 6]\n",
                        " la desviación estándar es 2.23606797749979\n",
                        " la desviación estándar con la librería statistics es 2.23606797749979\n"
                    ]
                }
            ],
            "source": [
                "# TODO\n",
                "import math as m\n",
                "import statistics as stats\n",
                "data=[4,2,5,8,6]\n",
                "def mean (list):\n",
                "    return sum(list)/len(list)\n",
                "\n",
                "def desvest(list):\n",
                "    sumatoria=0\n",
                "    for i in list:\n",
                "        sumatoria+=((i-mean(list))**2)\n",
                "    promedio_distances = sumatoria/(len(list)-1)\n",
                "    desvest = m.sqrt(promedio_distances)\n",
                "    return desvest\n",
                "\n",
                "print(f' los datos son {data}')\n",
                "print(f' la desviación estándar es {desvest(data)}')\n",
                "print(f' la desviación estándar con la librería statistics es {stats.stdev(data)}')\n",
                "\n",
                "\n",
                "\n",
                "\n",
                "\n"
            ]
        }
    ],
    "metadata": {
        "kernelspec": {
            "display_name": "Python 3",
            "language": "python",
            "name": "python3"
        },
        "language_info": {
            "codemirror_mode": {
                "name": "ipython",
                "version": 3
            },
            "file_extension": ".py",
            "mimetype": "text/x-python",
            "name": "python",
            "nbconvert_exporter": "python",
            "pygments_lexer": "ipython3",
            "version": "3.11.4"
        }
    },
    "nbformat": 4,
    "nbformat_minor": 5
}
